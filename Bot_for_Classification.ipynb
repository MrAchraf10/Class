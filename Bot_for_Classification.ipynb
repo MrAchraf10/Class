{
 "cells": [
  {
   "cell_type": "code",
   "execution_count": 1,
   "id": "f9b262d5",
   "metadata": {
    "scrolled": true
   },
   "outputs": [],
   "source": [
    "import pandas as pd\n",
    "import pickle\n",
    "import numpy as np\n",
    "from sklearn.preprocessing import LabelEncoder\n",
    "from tensorflow.keras.models import load_model\n",
    "from gensim.models import Word2Vec\n",
    "from text_processor import TextProcessor\n",
    "from wordcloud_generator import WordCloudGenerator\n",
    "from tensorflow.keras.preprocessing.sequence import pad_sequences\n",
    "import colorama \n",
    "colorama.init()\n",
    "from colorama import Fore, Style, Back\n",
    "max_len = 50\n",
    "embedding_size = 50"
   ]
  },
  {
   "cell_type": "code",
   "execution_count": 2,
   "id": "2dbbdaa1",
   "metadata": {},
   "outputs": [],
   "source": [
    "def chat():\n",
    "    \n",
    "    # load trained model\n",
    "    model = load_model('Perfect_Model.py')\n",
    "    \n",
    "    while True:\n",
    "        print(Fore.LIGHTBLUE_EX + \"User: \" + Style.RESET_ALL, end=\"\")\n",
    "        input_text = input(\"Entrer le titre du projet: \")\n",
    "        \n",
    "        if input_text.lower() == \"quit\":\n",
    "            break\n",
    "\n",
    "        # Create an instance of TextProcessor\n",
    "        text_processor = TextProcessor()\n",
    "\n",
    "        # Preprocess the new text\n",
    "        preprocessed_text = text_processor.process(input_text)\n",
    "        \n",
    "        model_w2v = Word2Vec.load(\"model_w2v.bin\")\n",
    "\n",
    "        # Convert the preprocessed text into word embeddings\n",
    "        new_text_vec = []\n",
    "        for word in preprocessed_text:\n",
    "            if word in model_w2v.wv:\n",
    "                new_text_vec.append(model_w2v.wv[word])\n",
    "            else:\n",
    "                new_text_vec.append(np.zeros(embedding_size))\n",
    "        new_text_vec = np.array([new_text_vec])\n",
    "\n",
    "        # Pad the embedded sequence\n",
    "        padded_new_text_vec = pad_sequences(new_text_vec, max_len)\n",
    "\n",
    "        with open('classes.pkl', 'rb') as f:\n",
    "            classes = pickle.load(f)\n",
    "        \n",
    "        with open('Label_Encoder.pkl', 'rb') as f:\n",
    "            le = pickle.load(f)\n",
    "        \n",
    "        # Make the prediction\n",
    "        predictions = model.predict(padded_new_text_vec)\n",
    "        predicted_class_index = np.argmax(predictions[0])\n",
    "        predicted_class = le.inverse_transform([predicted_class_index])[0]\n",
    "\n",
    "        if predicted_class in classes :\n",
    "            print(Fore.GREEN + \"ChatBot:\" + Style.RESET_ALL , \"Le code SF correspondant :\", predicted_class)\n",
    "        else :\n",
    "            print(\"Je suis désolé, je n'ai pas pu trouver le code SF correspondant.\")"
   ]
  },
  {
   "cell_type": "code",
   "execution_count": 3,
   "id": "e307740b",
   "metadata": {},
   "outputs": [
    {
     "name": "stdout",
     "output_type": "stream",
     "text": [
      "Start messaging with the bot (type quit to stop)!\n",
      "User: Entrer le titre du projet: matériel électrique et mécanqiue\n",
      "1/1 [==============================] - 1s 861ms/step\n",
      "ChatBot: Le code SF correspondant : 52102\n",
      "User: Entrer le titre du projet: matériel électrique et mécanqiue\n",
      "1/1 [==============================] - 0s 23ms/step\n",
      "ChatBot: Le code SF correspondant : 52102\n",
      "User: Entrer le titre du projet: quit\n"
     ]
    }
   ],
   "source": [
    "print(Fore.YELLOW + \"Start messaging with the bot (type quit to stop)!\" + Style.RESET_ALL)\n",
    "chat()"
   ]
  }
 ],
 "metadata": {
  "kernelspec": {
   "display_name": "Python 3 (ipykernel)",
   "language": "python",
   "name": "python3"
  },
  "language_info": {
   "codemirror_mode": {
    "name": "ipython",
    "version": 3
   },
   "file_extension": ".py",
   "mimetype": "text/x-python",
   "name": "python",
   "nbconvert_exporter": "python",
   "pygments_lexer": "ipython3",
   "version": "3.10.9"
  }
 },
 "nbformat": 4,
 "nbformat_minor": 5
}
