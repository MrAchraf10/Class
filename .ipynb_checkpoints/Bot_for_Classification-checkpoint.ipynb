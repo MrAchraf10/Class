{
 "cells": [
  {
   "cell_type": "code",
   "execution_count": 1,
   "id": "f9b262d5",
   "metadata": {
    "scrolled": true
   },
   "outputs": [],
   "source": [
    "import pandas as pd\n",
    "import numpy as np\n",
    "from tensorflow.keras.models import load_model\n",
    "from text_processor import TextProcessor\n",
    "from wordcloud_generator import WordCloudGenerator\n",
    "from tensorflow.keras.preprocessing.sequence import pad_sequences\n",
    "import colorama \n",
    "colorama.init()\n",
    "from colorama import Fore, Style, Back\n",
    "max_len = 50\n",
    "embedding_size = 50"
   ]
  },
  {
   "cell_type": "code",
   "execution_count": 2,
   "id": "2dbbdaa1",
   "metadata": {},
   "outputs": [],
   "source": [
    "def chat():\n",
    "    \n",
    "    # load trained model\n",
    "    model = load_model('Perfect_Model.py')\n",
    "    \n",
    "    while True:\n",
    "        print(Fore.LIGHTBLUE_EX + \"User: \" + Style.RESET_ALL, end=\"\")\n",
    "        input_text = input(\"Entrer le titre du projet: \")\n",
    "        \n",
    "        if input_text.lower() == \"quit\":\n",
    "            break\n",
    "\n",
    "        # Create an instance of TextProcessor\n",
    "        text_processor = TextProcessor()\n",
    "\n",
    "        # Preprocess the new text\n",
    "        preprocessed_text = text_processor.process(input_text)\n",
    "\n",
    "        # Convert the preprocessed text into word embeddings\n",
    "        new_text_vec = []\n",
    "        for word in preprocessed_text:\n",
    "            if word in model_w2v.wv:\n",
    "                new_text_vec.append(model_w2v.wv[word])\n",
    "            else:\n",
    "                new_text_vec.append(np.zeros(embedding_size))\n",
    "        new_text_vec = np.array([new_text_vec])\n",
    "\n",
    "        # Pad the embedded sequence\n",
    "        padded_new_text_vec = pad_sequences(new_text_vec, max_len)\n",
    "\n",
    "        # Make the prediction\n",
    "        predictions = model.predict(padded_new_text_vec)\n",
    "        predicted_class_index = np.argmax(predictions[0])\n",
    "        predicted_class = le.inverse_transform([predicted_class_index])[0]\n",
    "\n",
    "        for i in classes:\n",
    "            if classes[i] == predicted_class:\n",
    "                print(Fore.GREEN + \"ChatBot:\" + Style.RESET_ALL , \"Le code SF correspondant :\", predicted_class)\n",
    "            else :\n",
    "                print(\"Je suis désolé, je n'ai pas pu trouver le code SF correspondant.\")"
   ]
  },
  {
   "cell_type": "code",
   "execution_count": 4,
   "id": "e307740b",
   "metadata": {},
   "outputs": [
    {
     "name": "stdout",
     "output_type": "stream",
     "text": [
      "Start messaging with the bot (type quit to stop)!\n",
      "User: Entrer le titre du projet: Travail électrique et mécanique\n"
     ]
    },
    {
     "ename": "NameError",
     "evalue": "name 'model_w2v' is not defined",
     "output_type": "error",
     "traceback": [
      "\u001b[1;31m---------------------------------------------------------------------------\u001b[0m",
      "\u001b[1;31mNameError\u001b[0m                                 Traceback (most recent call last)",
      "Cell \u001b[1;32mIn[4], line 2\u001b[0m\n\u001b[0;32m      1\u001b[0m \u001b[38;5;28mprint\u001b[39m(Fore\u001b[38;5;241m.\u001b[39mYELLOW \u001b[38;5;241m+\u001b[39m \u001b[38;5;124m\"\u001b[39m\u001b[38;5;124mStart messaging with the bot (type quit to stop)!\u001b[39m\u001b[38;5;124m\"\u001b[39m \u001b[38;5;241m+\u001b[39m Style\u001b[38;5;241m.\u001b[39mRESET_ALL)\n\u001b[1;32m----> 2\u001b[0m \u001b[43mchat\u001b[49m\u001b[43m(\u001b[49m\u001b[43m)\u001b[49m\n",
      "Cell \u001b[1;32mIn[2], line 22\u001b[0m, in \u001b[0;36mchat\u001b[1;34m()\u001b[0m\n\u001b[0;32m     20\u001b[0m new_text_vec \u001b[38;5;241m=\u001b[39m []\n\u001b[0;32m     21\u001b[0m \u001b[38;5;28;01mfor\u001b[39;00m word \u001b[38;5;129;01min\u001b[39;00m preprocessed_text:\n\u001b[1;32m---> 22\u001b[0m     \u001b[38;5;28;01mif\u001b[39;00m word \u001b[38;5;129;01min\u001b[39;00m \u001b[43mmodel_w2v\u001b[49m\u001b[38;5;241m.\u001b[39mwv:\n\u001b[0;32m     23\u001b[0m         new_text_vec\u001b[38;5;241m.\u001b[39mappend(model_w2v\u001b[38;5;241m.\u001b[39mwv[word])\n\u001b[0;32m     24\u001b[0m     \u001b[38;5;28;01melse\u001b[39;00m:\n",
      "\u001b[1;31mNameError\u001b[0m: name 'model_w2v' is not defined"
     ]
    }
   ],
   "source": [
    "print(Fore.YELLOW + \"Start messaging with the bot (type quit to stop)!\" + Style.RESET_ALL)\n",
    "chat()"
   ]
  },
  {
   "cell_type": "code",
   "execution_count": null,
   "id": "1a27e674",
   "metadata": {},
   "outputs": [],
   "source": []
  }
 ],
 "metadata": {
  "kernelspec": {
   "display_name": "Python 3 (ipykernel)",
   "language": "python",
   "name": "python3"
  },
  "language_info": {
   "codemirror_mode": {
    "name": "ipython",
    "version": 3
   },
   "file_extension": ".py",
   "mimetype": "text/x-python",
   "name": "python",
   "nbconvert_exporter": "python",
   "pygments_lexer": "ipython3",
   "version": "3.10.9"
  }
 },
 "nbformat": 4,
 "nbformat_minor": 5
}
