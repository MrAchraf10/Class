{
 "cells": [
  {
   "cell_type": "code",
   "execution_count": 2,
   "id": "2cac47c9",
   "metadata": {},
   "outputs": [],
   "source": [
    "import re\n",
    "from nltk.tokenize import word_tokenize\n",
    "from nltk.corpus import stopwords\n",
    "from nltk.stem import PorterStemmer\n",
    "import string\n",
    "\n",
    "class TextPreprocessor:\n",
    "    def __init__(self):\n",
    "        self.stemmer = PorterStemmer()\n",
    "        self.stopwords_english = stopwords.words('english')\n",
    "\n",
    "    def process_text(self, text):\n",
    "        \"\"\"\n",
    "        Process text function.\n",
    "        Input:\n",
    "            text: a string containing the text to be processed\n",
    "        Output:\n",
    "            text_clean: a list of words containing the processed text\n",
    "        \"\"\"\n",
    "        # remove hyperlinks    \n",
    "        text = re.sub(r'https?://[^\\s\\n\\r]+', '', text)\n",
    "        # remove hashtags\n",
    "        # only removing the hash # sign from the word\n",
    "        text = re.sub(r'#', '', text)\n",
    "        # tokenize text\n",
    "        tokenizer = word_tokenize(text)\n",
    "        text_tokens = tokenizer\n",
    "\n",
    "        text_clean = []\n",
    "        for word in text_tokens:\n",
    "            if (word not in self.stopwords_english and  # remove stopwords\n",
    "                    word not in string.punctuation):  # remove punctuation\n",
    "                # text_clean.append(word)\n",
    "                stem_word = self.stemmer.stem(word)  # stemming word\n",
    "                text_clean.append(stem_word)\n",
    "\n",
    "        return text_clean"
   ]
  }
 ],
 "metadata": {
  "kernelspec": {
   "display_name": "Python 3 (ipykernel)",
   "language": "python",
   "name": "python3"
  },
  "language_info": {
   "codemirror_mode": {
    "name": "ipython",
    "version": 3
   },
   "file_extension": ".py",
   "mimetype": "text/x-python",
   "name": "python",
   "nbconvert_exporter": "python",
   "pygments_lexer": "ipython3",
   "version": "3.10.9"
  }
 },
 "nbformat": 4,
 "nbformat_minor": 5
}
